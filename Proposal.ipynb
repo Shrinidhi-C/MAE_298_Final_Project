{
 "cells": [
  {
   "cell_type": "markdown",
   "metadata": {},
   "source": [
    "## System dynamics\n",
    "CartPole environment consists of a cart on a trail and a pole hinge fixed on it. \n",
    "<img src=\"./img/Environment.png\" width=\"300\">\n",
    "### States\n",
    "$$X = \\left[\\array{x \\\\ \\dot{x} \\\\ \\theta \\\\ \\dot{\\theta} }\\right]$$\n",
    "### Derivative equations based on Newton and Euler's equations\n",
    "$$(M+m)\\ddot{x}= F_u + ml (\\dot{\\theta})^2sin\\theta-ml\\ddot{\\theta}cos\\theta$$  \n",
    "$$\\frac{3}{4} ml^2\\ddot{\\theta}=mglsin\\theta-mlcos\\theta \\ddot{x}$$\n",
    "- Parameters: \n",
    "l is distance from joint point to mass center of pole\n",
    "- Combination in discrete time space\n",
    "$$\\delta t=\\tau$$\n",
    "$$\\gamma = \\frac{(F_u+ml{\\dot{\\theta}}^2sin\\theta)}{M+m}$$   \n",
    "$$\\ddot{\\theta}=\\frac{gsin\\theta-\\gamma cos\\theta}{\\frac{4}{3}(M+m)l-mlcos^2\\theta}$$\n",
    "$$\\ddot{x}=\\gamma-\\frac{ml\\ddot{\\theta}cos\\theta}{M+m}$$\n",
    "- In very short discrete time interval\n",
    "$$x = x + \\tau\\dot{x}$$  \n",
    "$$\\dot{x}=\\dot{x}+\\tau\\ddot{x}$$  \n",
    "$$\\theta = \\theta + \\tau\\dot{\\theta}$$  \n",
    "$$\\dot{\\theta}=\\dot{\\theta}+\\tau\\ddot{\\theta}$$\n",
    "### Linearized state space function     \n",
    "- Assumption  \n",
    "$$sin\\theta\\approx\\theta$$\n",
    "$$cos\\theta\\approx 1$$\n",
    "$$(\\dot{\\theta})^2 \\approx 0$$  \n",
    "- Take assumption into derivative equations\n",
    "$$\\beta = \\frac{4}{3}-\\frac{ml}{M+m}$$  \n",
    "$$\\ddot{x}=-\\frac{mlg\\theta}{(M+m)\\beta}\\theta-\\frac{F_u(\\beta(M+m)+ml)}{(M+m)^2l\\beta}$$  \n",
    "$$\\ddot{\\theta}=\\frac{g}{l\\beta}\\theta-\\frac{F_u}{(M+m)l\\beta}$$  \n",
    "- The linearized discrete equation of system following previous procedure\n",
    "    - states\n",
    "$$X=\\left[\\matrix{x \\\\ \\theta \\\\ \\dot{x} \\\\ \\dot{\\theta}}\\right]$$  \n",
    "    - state equations\n",
    "$$x_{k+1}=x_k+\\dot{x_k}\\tau$$  \n",
    "$$\\theta_{k+1}=\\theta_k+\\dot{\\theta_k}\\tau$$  \n",
    "$$\\dot{x}_{k+1} = \\dot{x}_k+\\tau (-\\frac{mlg\\theta_k}{(M+m)\\beta}\\theta_k-\\frac{F_{u_k}(\\beta(M+m)+ml)}{(M+m)^2l\\beta})$$  \n",
    "$$\\dot{\\theta}_{k+1} = \\dot{\\theta}_k+\\tau(\\frac{g}{l\\beta}\\theta_k-\\frac{F_{u_k}}{(M+m)l\\beta})$$  \n",
    "    - discrete state space\n",
    "$$\\left[\\matrix{x_{k+1} \\\\ \\theta_{k+1} \\\\ \\dot{x}_{k+1} \\\\ \\dot{\\theta}_{k+1}}\\right] = \n",
    "\\left[\\matrix{1 & \\tau & 0 & 0 \\\\  \n",
    "              0 & 1 & -\\frac{\\tau mlg}{(M+m)\\beta} & 0 \\\\  \n",
    "              0 & 0 & 1 & \\tau \\\\  \n",
    "              0 & 0 & \\frac{g\\tau}{l\\beta_k}& 1}\\right]\\left[\\matrix{x_{k} \\\\ \\theta_{k} \\\\ \\dot{x}_{k} \\\\ \\dot{\\theta}_{k}}\\right] + \\left[\\matrix{0 \\\\ \\frac{(\\beta(M+m)+ml)}{(M+m)^2l\\beta} \\\\ 0 \\\\ \\frac{-1}{(M+m)l\\beta} }\\right][F_{u_k}]$$          "
   ]
  },
  {
   "cell_type": "code",
   "execution_count": null,
   "metadata": {},
   "outputs": [],
   "source": []
  }
 ],
 "metadata": {
  "kernelspec": {
   "display_name": "Python [conda env:py36]",
   "language": "python",
   "name": "conda-env-py36-py"
  },
  "language_info": {
   "codemirror_mode": {
    "name": "ipython",
    "version": 3
   },
   "file_extension": ".py",
   "mimetype": "text/x-python",
   "name": "python",
   "nbconvert_exporter": "python",
   "pygments_lexer": "ipython3",
   "version": "3.6.4"
  }
 },
 "nbformat": 4,
 "nbformat_minor": 2
}
