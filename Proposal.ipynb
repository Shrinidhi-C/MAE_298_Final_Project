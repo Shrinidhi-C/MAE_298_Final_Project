{
 "cells": [
  {
   "cell_type": "markdown",
   "metadata": {},
   "source": [
    "## System dynamics\n",
    "CartPole environment consists of a cart on a trail and a pole hinge fixed on it. \n",
    "<img src=\"./img/Environment.png\" width=\"300\">\n",
    "### States\n",
    "$$X = \\left[\\array{x \\\\ \\dot{x} \\\\ \\theta \\\\ \\dot{\\theta} }\\right]$$\n",
    "### Parameters:  \n",
    "$l = 0.5 m$: half length of pole (homogenuous pole)   \n",
    "$M = 1 kg$: mass of cart  \n",
    "$m = 0.1 kg$: mass of pole   \n",
    "$\\tau = 0.02 s$: discrete time peroid   \n",
    "$F_u (N)$: exterted force on the cart  \n",
    "### Derivative equations based on Newton and Euler's equations\n",
    "$$(M+m)\\ddot{x}= F_u + ml (\\dot{\\theta})^2sin\\theta-ml\\ddot{\\theta}cos\\theta$$  \n",
    "$$\\frac{4}{3} ml^2\\ddot{\\theta}=mglsin\\theta-mlcos\\theta \\ddot{x}$$\n",
    "### How simulation works\n",
    "- Calculate accelaration based on state $x_k$\n",
    "$$\\gamma_k = \\frac{(F_{u_k} + ml{\\dot{\\theta_k}}^2sin\\theta_k)}{M+m}$$   \n",
    "$$\\ddot{\\theta_k}=\\frac{gsin\\theta_k-\\gamma_k cos\\theta_k}{\\frac{4}{3}(M+m)l-mlcos^2\\theta_k}$$\n",
    "$$\\ddot{x_k}=\\gamma_k-\\frac{ml\\ddot{\\theta_k}cos\\theta_k}{M+m}$$\n",
    "- In very short discrete time interval, calculate $x_{k+1}$\n",
    "$$x_{k+1} = x_k + \\tau\\dot{x_k}$$  \n",
    "$$\\dot{x_{k+1}}=\\dot{x_k}+\\tau\\ddot{x_k}$$  \n",
    "$$\\theta_{k+1} = \\theta_k + \\tau\\dot{\\theta_k}$$  \n",
    "$$\\dot{\\theta_k}=\\dot{\\theta_k}+\\tau\\ddot{\\theta_k}$$\n",
    "\n",
    "### Linearized state space function     \n",
    "- Assumption  \n",
    "$$sin\\theta\\approx\\theta$$\n",
    "$$cos\\theta\\approx 1$$\n",
    "$$(\\dot{\\theta})^2 \\approx 0$$  \n",
    "- Take assumption into derivative equations\n",
    "$$\\beta = \\frac{4}{3}-\\frac{m}{M+m}$$  \n",
    "$$\\ddot{x}_k=-\\frac{mg\\theta}{(M+m)\\beta}\\theta-\\frac{F_u(\\beta(M+m)+m)}{(M+m)^2\\beta}$$  \n",
    "$$\\ddot{\\theta}_k=\\frac{g}{l\\beta}\\theta-\\frac{F_u}{(M+m)l\\beta}$$  \n",
    "- The linearized discrete equation of system following previous procedure\n",
    "    - states\n",
    "$$X=\\left[\\matrix{x \\\\ \\theta \\\\ \\dot{x} \\\\ \\dot{\\theta}}\\right]$$  \n",
    "    - state equations\n",
    "$$x_{k+1}=x_k+\\dot{x_k}\\tau$$  \n",
    "$$\\theta_{k+1}=\\theta_k+\\dot{\\theta_k}\\tau$$  \n",
    "$$\\dot{x}_{k+1} = \\dot{x}_k+\\tau \\ddot{x_k}$$  \n",
    "$$\\dot{\\theta}_{k+1} = \\dot{\\theta}_k+\\tau\\ddot{\\theta}_k$$  \n",
    "    - discrete state space\n",
    "$$\\left[\\matrix{x_{k+1} \\\\ \\dot{x}_{k+1} \\\\ \\theta_{k+1} \\\\ \\dot{\\theta}_{k+1}}\\right] = \n",
    "\\left[\\matrix{1 & \\tau & 0 & 0 \\\\  \n",
    "              0 & 1 & -\\frac{\\tau mg}{(M+m)\\beta} & 0 \\\\  \n",
    "              0 & 0 & 1 & \\tau \\\\  \n",
    "              0 & 0 & \\frac{g\\tau}{l\\beta_k}& 1}\\right]\\left[\\matrix{x_{k} \\\\ \\dot{x}_{k} \\\\ \\theta_{k} \\\\ \\dot{\\theta}_{k}}\\right] + \\left[\\matrix{0 \\\\ \\frac{(\\beta(M+m)+m)}{(M+m)^2\\beta} \\\\ 0 \\\\ \\frac{-1}{(M+m)\\beta} }\\right][F_{u_k}]$$          "
   ]
  },
  {
   "cell_type": "code",
   "execution_count": 15,
   "metadata": {},
   "outputs": [],
   "source": [
    "from sympy import sin, cos, Matrix, symbols, diff, simplify\n",
    "from sympy.abc import rho, phi, theta, tau, omega"
   ]
  },
  {
   "cell_type": "code",
   "execution_count": 3,
   "metadata": {},
   "outputs": [],
   "source": [
    "X = Matrix([rho*cos(phi), rho*sin(phi), rho**2])"
   ]
  },
  {
   "cell_type": "code",
   "execution_count": 4,
   "metadata": {},
   "outputs": [],
   "source": [
    "Y = Matrix([rho, phi])"
   ]
  },
  {
   "cell_type": "code",
   "execution_count": 5,
   "metadata": {},
   "outputs": [
    {
     "data": {
      "text/plain": [
       "Matrix([\n",
       "[cos(phi), -rho*sin(phi)],\n",
       "[sin(phi),  rho*cos(phi)],\n",
       "[   2*rho,             0]])"
      ]
     },
     "execution_count": 5,
     "metadata": {},
     "output_type": "execute_result"
    }
   ],
   "source": [
    "X.jacobian(Y)"
   ]
  },
  {
   "cell_type": "code",
   "execution_count": 10,
   "metadata": {},
   "outputs": [],
   "source": [
    "v, g, F, m, l, M = symbols(\"v, g, F, m, l, M\")\n",
    "h2 = v+tau*(F+m*l*omega**2*sin(theta)-3/4*m*g*sin(theta)*cos(theta))/(M+m-3/4*m*(cos(theta))**2)"
   ]
  },
  {
   "cell_type": "code",
   "execution_count": 16,
   "metadata": {},
   "outputs": [
    {
     "data": {
      "text/plain": [
       "m*tau*(-1.5*(F - 0.375*g*m*sin(2*theta) + l*m*omega**2*sin(theta))*sin(theta)*cos(theta) + (M - 0.75*m*cos(theta)**2 + m)*(1.5*g*sin(theta)**2 - 0.75*g + 1.0*l*omega**2*cos(theta)))/(M - 0.75*m*cos(theta)**2 + m)**2"
      ]
     },
     "execution_count": 16,
     "metadata": {},
     "output_type": "execute_result"
    }
   ],
   "source": [
    "simplify(diff(h2, theta))"
   ]
  },
  {
   "cell_type": "code",
   "execution_count": 17,
   "metadata": {},
   "outputs": [
    {
     "data": {
      "text/plain": [
       "2*l*m*omega*tau*sin(theta)/(M - 0.75*m*cos(theta)**2 + m)"
      ]
     },
     "execution_count": 17,
     "metadata": {},
     "output_type": "execute_result"
    }
   ],
   "source": [
    "diff(h2, omega)"
   ]
  },
  {
   "cell_type": "code",
   "execution_count": 18,
   "metadata": {},
   "outputs": [
    {
     "data": {
      "text/plain": [
       "1"
      ]
     },
     "execution_count": 18,
     "metadata": {},
     "output_type": "execute_result"
    }
   ],
   "source": [
    "diff(h2, v)"
   ]
  },
  {
   "cell_type": "code",
   "execution_count": 20,
   "metadata": {},
   "outputs": [],
   "source": [
    "h4 = omega+tau*((M+m)*g*sin(theta)-m*l*omega**2*sin(theta)*cos(theta)-F*cos(theta))/(4/3*(m+M)*l-m*l*(cos(theta))**2)"
   ]
  },
  {
   "cell_type": "code",
   "execution_count": 25,
   "metadata": {},
   "outputs": [
    {
     "data": {
      "text/plain": [
       "-2*l*m*omega*tau*sin(theta)*cos(theta)/(-l*m*cos(theta)**2 + l*(1.33333333333333*M + 1.33333333333333*m)) + 1"
      ]
     },
     "execution_count": 25,
     "metadata": {},
     "output_type": "execute_result"
    }
   ],
   "source": [
    "diff(h4, omega)"
   ]
  },
  {
   "cell_type": "code",
   "execution_count": null,
   "metadata": {},
   "outputs": [],
   "source": []
  }
 ],
 "metadata": {
  "kernelspec": {
   "display_name": "Python 3",
   "language": "python",
   "name": "python3"
  },
  "language_info": {
   "codemirror_mode": {
    "name": "ipython",
    "version": 3
   },
   "file_extension": ".py",
   "mimetype": "text/x-python",
   "name": "python",
   "nbconvert_exporter": "python",
   "pygments_lexer": "ipython3",
   "version": "3.6.4"
  }
 },
 "nbformat": 4,
 "nbformat_minor": 2
}
