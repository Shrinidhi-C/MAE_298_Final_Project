{
 "cells": [
  {
   "cell_type": "code",
   "execution_count": 1,
   "metadata": {},
   "outputs": [],
   "source": [
    "import scipy.io as sio"
   ]
  },
  {
   "cell_type": "code",
   "execution_count": 5,
   "metadata": {},
   "outputs": [],
   "source": [
    "data = sio.loadmat('data.mat')"
   ]
  },
  {
   "cell_type": "code",
   "execution_count": 6,
   "metadata": {},
   "outputs": [
    {
     "data": {
      "text/plain": [
       "{'__globals__': [],\n",
       " '__header__': b'MATLAB 5.0 MAT-file Platform: posix, Created on: Tue May 15 11:10:19 2018',\n",
       " '__version__': '1.0',\n",
       " 'estimated states': array([[[ 8.16741075e-05],\n",
       "         [-8.63994125e-02],\n",
       "         [-1.57444254e-01],\n",
       "         [ 8.44424142e-02]],\n",
       " \n",
       "        [[-1.64966293e-03],\n",
       "         [-1.67860258e-01],\n",
       "         [-1.58990657e-01],\n",
       "         [ 1.54456141e-01]],\n",
       " \n",
       "        [[-5.00756197e-03],\n",
       "         [-2.38309392e-01],\n",
       "         [-1.57874894e-01],\n",
       "         [ 2.11496482e-01]],\n",
       " \n",
       "        ...,\n",
       " \n",
       "        [[ 7.68645726e-02],\n",
       "         [-3.50730388e-02],\n",
       "         [-3.19678172e-03],\n",
       "         [ 7.86553061e-03]],\n",
       " \n",
       "        [[ 7.61619373e-02],\n",
       "         [-3.86143915e-02],\n",
       "         [-2.95922087e-03],\n",
       "         [ 7.70332966e-03]],\n",
       " \n",
       "        [[ 7.53895984e-02],\n",
       "         [-3.93617395e-02],\n",
       "         [-3.21670553e-03],\n",
       "         [ 7.27860212e-03]]]),\n",
       " 'inputs of lqr': array([[[-4.58443682]],\n",
       " \n",
       "        [[-4.13304423]],\n",
       " \n",
       "        [[-3.70582696]],\n",
       " \n",
       "        ...,\n",
       " \n",
       "        [[-0.05867248]],\n",
       " \n",
       "        [[-0.03034347]],\n",
       " \n",
       "        [[-0.03412213]]]),\n",
       " 'state measurements': array([[[-0.08639953],\n",
       "         [ 0.0844425 ]],\n",
       " \n",
       "        [[-0.16792144],\n",
       "         [ 0.1544511 ]],\n",
       " \n",
       "        [[-0.2383182 ],\n",
       "         [ 0.2114842 ]],\n",
       " \n",
       "        ...,\n",
       " \n",
       "        [[-0.0350697 ],\n",
       "         [ 0.00785171]],\n",
       " \n",
       "        [[-0.03867312],\n",
       "         [ 0.00770201]],\n",
       " \n",
       "        [[-0.03936429],\n",
       "         [ 0.00727158]]]),\n",
       " 'states of ground truth': array([[ 6.56549110e-05,  1.39183390e-03, -1.57589449e-01,\n",
       "         -5.02907098e-04],\n",
       "        [ 1.20698899e-04, -8.64526343e-02, -1.58008276e-01,\n",
       "          8.42569148e-02],\n",
       "        [-6.32377881e-04, -1.67941997e-01, -1.55911588e-01,\n",
       "          1.54354534e-01],\n",
       "        ...,\n",
       "        [ 5.54956617e-02, -3.50621249e-02, -2.50135572e-03,\n",
       "          7.68195445e-03],\n",
       "        [ 5.60944947e-02, -3.85427767e-02, -2.49886809e-03,\n",
       "          7.96123436e-03],\n",
       "        [ 5.30007559e-02, -3.93003448e-02, -1.63803644e-03,\n",
       "          7.64120328e-03]]),\n",
       " 'time': array([[2.000e-02, 4.000e-02, 6.000e-02, ..., 1.998e+01, 2.000e+01,\n",
       "         2.002e+01]])}"
      ]
     },
     "execution_count": 6,
     "metadata": {},
     "output_type": "execute_result"
    }
   ],
   "source": [
    "data"
   ]
  },
  {
   "cell_type": "code",
   "execution_count": 7,
   "metadata": {},
   "outputs": [
    {
     "data": {
      "text/plain": [
       "(1001, 1, 1)"
      ]
     },
     "execution_count": 7,
     "metadata": {},
     "output_type": "execute_result"
    }
   ],
   "source": [
    "data['inputs of lqr'].shape"
   ]
  },
  {
   "cell_type": "code",
   "execution_count": 8,
   "metadata": {},
   "outputs": [
    {
     "data": {
      "text/plain": [
       "(1002, 4)"
      ]
     },
     "execution_count": 8,
     "metadata": {},
     "output_type": "execute_result"
    }
   ],
   "source": [
    "data['states of ground truth'].shape"
   ]
  },
  {
   "cell_type": "code",
   "execution_count": 10,
   "metadata": {},
   "outputs": [
    {
     "data": {
      "text/plain": [
       "(1001, 4, 1)"
      ]
     },
     "execution_count": 10,
     "metadata": {},
     "output_type": "execute_result"
    }
   ],
   "source": [
    "data['estimated states'].shape"
   ]
  },
  {
   "cell_type": "code",
   "execution_count": 11,
   "metadata": {},
   "outputs": [
    {
     "data": {
      "text/plain": [
       "(1, 1001)"
      ]
     },
     "execution_count": 11,
     "metadata": {},
     "output_type": "execute_result"
    }
   ],
   "source": [
    "data['time'].shape"
   ]
  },
  {
   "cell_type": "code",
   "execution_count": null,
   "metadata": {},
   "outputs": [],
   "source": []
  }
 ],
 "metadata": {
  "kernelspec": {
   "display_name": "Python 3",
   "language": "python",
   "name": "python3"
  },
  "language_info": {
   "codemirror_mode": {
    "name": "ipython",
    "version": 3
   },
   "file_extension": ".py",
   "mimetype": "text/x-python",
   "name": "python",
   "nbconvert_exporter": "python",
   "pygments_lexer": "ipython3",
   "version": "3.6.4"
  }
 },
 "nbformat": 4,
 "nbformat_minor": 2
}
